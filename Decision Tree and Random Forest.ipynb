{
 "cells": [
  {
   "cell_type": "code",
   "execution_count": 1,
   "id": "230ac768-e70e-43ef-8a0d-c9acdeb71e78",
   "metadata": {},
   "outputs": [
    {
     "name": "stdout",
     "output_type": "stream",
     "text": [
      "Collecting imbalanced-learn\n",
      "  Downloading imbalanced_learn-0.9.0-py3-none-any.whl (199 kB)\n",
      "Requirement already satisfied: joblib>=0.11 in c:\\users\\jcald\\anaconda3\\lib\\site-packages (from imbalanced-learn) (1.1.0)\n",
      "Requirement already satisfied: scipy>=1.1.0 in c:\\users\\jcald\\anaconda3\\lib\\site-packages (from imbalanced-learn) (1.7.1)\n",
      "Requirement already satisfied: numpy>=1.14.6 in c:\\users\\jcald\\anaconda3\\lib\\site-packages (from imbalanced-learn) (1.20.3)\n",
      "Collecting scikit-learn>=1.0.1\n",
      "  Downloading scikit_learn-1.0.2-cp39-cp39-win_amd64.whl (7.2 MB)\n",
      "Requirement already satisfied: threadpoolctl>=2.0.0 in c:\\users\\jcald\\anaconda3\\lib\\site-packages (from imbalanced-learn) (2.2.0)\n",
      "Installing collected packages: scikit-learn, imbalanced-learn\n",
      "  Attempting uninstall: scikit-learn\n",
      "    Found existing installation: scikit-learn 0.24.2\n",
      "    Uninstalling scikit-learn-0.24.2:\n",
      "      Successfully uninstalled scikit-learn-0.24.2\n",
      "Successfully installed imbalanced-learn-0.9.0 scikit-learn-1.0.2\n"
     ]
    }
   ],
   "source": [
    "!pip install imbalanced-learn"
   ]
  },
  {
   "cell_type": "code",
   "execution_count": 3,
   "id": "cb0d39df-65fb-4c45-8ddb-1bd72e711a97",
   "metadata": {},
   "outputs": [],
   "source": [
    "import pandas as pd\n",
    "import numpy as np\n",
    "\n",
    "from sklearn.tree import DecisionTreeClassifier\n",
    "from sklearn.model_selection import train_test_split\n",
    "from sklearn.model_selection import cross_val_score\n",
    "from sklearn.impute import SimpleImputer\n",
    "from sklearn.metrics import confusion_matrix, classification_report\n",
    "from sklearn import metrics\n",
    "from sklearn.metrics import roc_auc_score\n",
    "from sklearn.model_selection import cross_val_predict\n",
    "from sklearn.ensemble import RandomForestClassifier\n",
    "\n",
    "from sklearn.feature_selection import SelectKBest\n",
    "from sklearn.feature_selection import f_classif\n",
    "\n",
    "from imblearn.over_sampling import SMOTE\n",
    "from imblearn.under_sampling import RandomUnderSampler"
   ]
  },
  {
   "cell_type": "code",
   "execution_count": 4,
   "id": "866bbb3d-40ed-49ab-823c-5246e34f8396",
   "metadata": {},
   "outputs": [
    {
     "name": "stdout",
     "output_type": "stream",
     "text": [
      "       age         workclass   education  education-num      marital-status  \\\n",
      "0       39         State-gov   Bachelors             13       Never-married   \n",
      "1       50  Self-emp-not-inc   Bachelors             13  Married-civ-spouse   \n",
      "2       38           Private     HS-grad              9            Divorced   \n",
      "3       53           Private        11th              7  Married-civ-spouse   \n",
      "4       28           Private   Bachelors             13  Married-civ-spouse   \n",
      "...    ...               ...         ...            ...                 ...   \n",
      "32556   27           Private  Assoc-acdm             12  Married-civ-spouse   \n",
      "32557   40           Private     HS-grad              9  Married-civ-spouse   \n",
      "32558   58           Private     HS-grad              9             Widowed   \n",
      "32559   22           Private     HS-grad              9       Never-married   \n",
      "32560   52      Self-emp-inc     HS-grad              9  Married-civ-spouse   \n",
      "\n",
      "              occupation   relationship   race     sex  capital-gain  \\\n",
      "0           Adm-clerical  Not-in-family  White    Male          2174   \n",
      "1        Exec-managerial        Husband  White    Male             0   \n",
      "2      Handlers-cleaners  Not-in-family  White    Male             0   \n",
      "3      Handlers-cleaners        Husband  Black    Male             0   \n",
      "4         Prof-specialty           Wife  Black  Female             0   \n",
      "...                  ...            ...    ...     ...           ...   \n",
      "32556       Tech-support           Wife  White  Female             0   \n",
      "32557  Machine-op-inspct        Husband  White    Male             0   \n",
      "32558       Adm-clerical      Unmarried  White  Female             0   \n",
      "32559       Adm-clerical      Own-child  White    Male             0   \n",
      "32560    Exec-managerial           Wife  White  Female         15024   \n",
      "\n",
      "       capital-loss  hours-per-week native-country  income >50K  \n",
      "0                 0              40  United-States            0  \n",
      "1                 0              13  United-States            0  \n",
      "2                 0              40  United-States            0  \n",
      "3                 0              40  United-States            0  \n",
      "4                 0              40           Cuba            0  \n",
      "...             ...             ...            ...          ...  \n",
      "32556             0              38  United-States            0  \n",
      "32557             0              40  United-States            1  \n",
      "32558             0              40  United-States            0  \n",
      "32559             0              20  United-States            0  \n",
      "32560             0              40  United-States            1  \n",
      "\n",
      "[32561 rows x 14 columns]\n"
     ]
    }
   ],
   "source": [
    "income = pd.read_csv('Data/income.csv')\n",
    "print(income)"
   ]
  },
  {
   "cell_type": "code",
   "execution_count": 6,
   "id": "29094e1a-eb6a-4520-9220-5088cbfc3235",
   "metadata": {},
   "outputs": [
    {
     "name": "stdout",
     "output_type": "stream",
     "text": [
      "<class 'pandas.core.frame.DataFrame'>\n",
      "RangeIndex: 32561 entries, 0 to 32560\n",
      "Data columns (total 14 columns):\n",
      " #   Column          Non-Null Count  Dtype \n",
      "---  ------          --------------  ----- \n",
      " 0   age             32561 non-null  int64 \n",
      " 1   workclass       30725 non-null  object\n",
      " 2   education       32561 non-null  object\n",
      " 3   education-num   32561 non-null  int64 \n",
      " 4   marital-status  32561 non-null  object\n",
      " 5   occupation      30718 non-null  object\n",
      " 6   relationship    32561 non-null  object\n",
      " 7   race            32561 non-null  object\n",
      " 8   sex             32561 non-null  object\n",
      " 9   capital-gain    32561 non-null  int64 \n",
      " 10  capital-loss    32561 non-null  int64 \n",
      " 11  hours-per-week  32561 non-null  int64 \n",
      " 12  native-country  31978 non-null  object\n",
      " 13  income >50K     32561 non-null  int64 \n",
      "dtypes: int64(6), object(8)\n",
      "memory usage: 3.5+ MB\n"
     ]
    }
   ],
   "source": [
    "income.info()"
   ]
  },
  {
   "cell_type": "code",
   "execution_count": 7,
   "id": "fd048c09-add0-4066-a512-0adcf1f8efdd",
   "metadata": {},
   "outputs": [
    {
     "data": {
      "text/plain": [
       "Index(['workclass', 'occupation', 'native-country'], dtype='object')"
      ]
     },
     "execution_count": 7,
     "metadata": {},
     "output_type": "execute_result"
    }
   ],
   "source": [
    "income.columns[income.isnull().any()]"
   ]
  },
  {
   "cell_type": "code",
   "execution_count": 8,
   "id": "51715381-d101-40ed-8df8-f166007ecf33",
   "metadata": {},
   "outputs": [
    {
     "name": "stdout",
     "output_type": "stream",
     "text": [
      "Private             22696\n",
      "Self-emp-not-inc     2541\n",
      "Local-gov            2093\n",
      "NaN                  1836\n",
      "State-gov            1298\n",
      "Self-emp-inc         1116\n",
      "Federal-gov           960\n",
      "Without-pay            14\n",
      "Never-worked            7\n",
      "Name: workclass, dtype: int64\n",
      "Prof-specialty       4140\n",
      "Craft-repair         4099\n",
      "Exec-managerial      4066\n",
      "Adm-clerical         3770\n",
      "Sales                3650\n",
      "Other-service        3295\n",
      "Machine-op-inspct    2002\n",
      "NaN                  1843\n",
      "Transport-moving     1597\n",
      "Handlers-cleaners    1370\n",
      "Farming-fishing       994\n",
      "Tech-support          928\n",
      "Protective-serv       649\n",
      "Priv-house-serv       149\n",
      "Armed-Forces            9\n",
      "Name: occupation, dtype: int64\n",
      "United-States                 29170\n",
      "Mexico                          643\n",
      "NaN                             583\n",
      "Philippines                     198\n",
      "Germany                         137\n",
      "Canada                          121\n",
      "Puerto-Rico                     114\n",
      "El-Salvador                     106\n",
      "India                           100\n",
      "Cuba                             95\n",
      "England                          90\n",
      "Jamaica                          81\n",
      "South                            80\n",
      "China                            75\n",
      "Italy                            73\n",
      "Dominican-Republic               70\n",
      "Vietnam                          67\n",
      "Guatemala                        64\n",
      "Japan                            62\n",
      "Poland                           60\n",
      "Columbia                         59\n",
      "Taiwan                           51\n",
      "Haiti                            44\n",
      "Iran                             43\n",
      "Portugal                         37\n",
      "Nicaragua                        34\n",
      "Peru                             31\n",
      "France                           29\n",
      "Greece                           29\n",
      "Ecuador                          28\n",
      "Ireland                          24\n",
      "Hong                             20\n",
      "Cambodia                         19\n",
      "Trinadad&Tobago                  19\n",
      "Laos                             18\n",
      "Thailand                         18\n",
      "Yugoslavia                       16\n",
      "Outlying-US(Guam-USVI-etc)       14\n",
      "Honduras                         13\n",
      "Hungary                          13\n",
      "Scotland                         12\n",
      "Holand-Netherlands                1\n",
      "Name: native-country, dtype: int64\n"
     ]
    }
   ],
   "source": [
    "print(income['workclass'].value_counts(dropna= False))\n",
    "print(income['occupation'].value_counts(dropna= False))\n",
    "print(income['native-country'].value_counts(dropna= False))"
   ]
  },
  {
   "cell_type": "code",
   "execution_count": 10,
   "id": "7bd1f1ea-95ce-4a12-a889-fe567c284522",
   "metadata": {},
   "outputs": [
    {
     "name": "stdout",
     "output_type": "stream",
     "text": [
      "['age', 'workclass', 'education', 'education-num', 'marital-status', 'occupation', 'relationship', 'race', 'sex', 'capital-gain', 'capital-loss', 'hours-per-week', 'native-country', 'income >50K']\n"
     ]
    }
   ],
   "source": [
    "#looking at the missing amounts is low compared to the mode, using mode will work. Could use a different method for workclass but this should work for now.\n",
    "#Saving the columns to keep a record\n",
    "cols = list(income.columns)\n",
    "print(cols)"
   ]
  },
  {
   "cell_type": "code",
   "execution_count": 11,
   "id": "e850b297-e14e-4f79-996a-547bc9979539",
   "metadata": {},
   "outputs": [],
   "source": [
    "mincome = income.fillna(income.agg(lambda x: pd.Series.mode(x)[0], axis=0))"
   ]
  },
  {
   "cell_type": "code",
   "execution_count": 12,
   "id": "1aad055e-36b9-4240-b765-03402c1e49ad",
   "metadata": {},
   "outputs": [
    {
     "data": {
      "text/plain": [
       "Index([], dtype='object')"
      ]
     },
     "execution_count": 12,
     "metadata": {},
     "output_type": "execute_result"
    }
   ],
   "source": [
    "# check again for missing values\n",
    "mincome.columns[mincome.isnull().any()]"
   ]
  },
  {
   "cell_type": "code",
   "execution_count": 13,
   "id": "57243300-bad5-44a3-83b8-66c0be54afb2",
   "metadata": {},
   "outputs": [
    {
     "name": "stdout",
     "output_type": "stream",
     "text": [
      "<class 'pandas.core.frame.DataFrame'>\n",
      "RangeIndex: 32561 entries, 0 to 32560\n",
      "Data columns (total 14 columns):\n",
      " #   Column          Non-Null Count  Dtype \n",
      "---  ------          --------------  ----- \n",
      " 0   age             32561 non-null  int64 \n",
      " 1   workclass       32561 non-null  object\n",
      " 2   education       32561 non-null  object\n",
      " 3   education-num   32561 non-null  int64 \n",
      " 4   marital-status  32561 non-null  object\n",
      " 5   occupation      32561 non-null  object\n",
      " 6   relationship    32561 non-null  object\n",
      " 7   race            32561 non-null  object\n",
      " 8   sex             32561 non-null  object\n",
      " 9   capital-gain    32561 non-null  int64 \n",
      " 10  capital-loss    32561 non-null  int64 \n",
      " 11  hours-per-week  32561 non-null  int64 \n",
      " 12  native-country  32561 non-null  object\n",
      " 13  income >50K     32561 non-null  int64 \n",
      "dtypes: int64(6), object(8)\n",
      "memory usage: 3.5+ MB\n"
     ]
    }
   ],
   "source": [
    "mincome.info()"
   ]
  },
  {
   "cell_type": "code",
   "execution_count": 21,
   "id": "a2f2f28d-c1c7-4748-8da5-758dc7ff2a08",
   "metadata": {},
   "outputs": [
    {
     "name": "stdout",
     "output_type": "stream",
     "text": [
      "       age  workclass  education  education-num  marital-status  occupation  \\\n",
      "0       39          0          0             13               0           0   \n",
      "1       50          1          0             13               1           1   \n",
      "2       38          2          1              9               2           2   \n",
      "3       53          2          2              7               1           2   \n",
      "4       28          2          0             13               1           3   \n",
      "...    ...        ...        ...            ...             ...         ...   \n",
      "32556   27          2          6             12               1          10   \n",
      "32557   40          2          1              9               1           9   \n",
      "32558   58          2          1              9               6           0   \n",
      "32559   22          2          1              9               0           0   \n",
      "32560   52          5          1              9               1           1   \n",
      "\n",
      "       relationship  race  sex  capital-gain  capital-loss  hours-per-week  \\\n",
      "0                 0     0    0          2174             0              40   \n",
      "1                 1     0    0             0             0              13   \n",
      "2                 0     0    0             0             0              40   \n",
      "3                 1     1    0             0             0              40   \n",
      "4                 2     1    1             0             0              40   \n",
      "...             ...   ...  ...           ...           ...             ...   \n",
      "32556             2     0    1             0             0              38   \n",
      "32557             1     0    0             0             0              40   \n",
      "32558             4     0    1             0             0              40   \n",
      "32559             3     0    0             0             0              20   \n",
      "32560             2     0    1         15024             0              40   \n",
      "\n",
      "       native-country  income >50K  \n",
      "0                   0            0  \n",
      "1                   0            0  \n",
      "2                   0            0  \n",
      "3                   0            0  \n",
      "4                   1            0  \n",
      "...               ...          ...  \n",
      "32556               0            0  \n",
      "32557               0            1  \n",
      "32558               0            0  \n",
      "32559               0            0  \n",
      "32560               0            1  \n",
      "\n",
      "[32561 rows x 14 columns]\n"
     ]
    }
   ],
   "source": [
    "for c in cols:\n",
    "    if mincome[c].dtype == object:\n",
    "        mincome[c] = pd.Series(pd.factorize( list(mincome[c]) ) [0])\n",
    "print(mincome)"
   ]
  },
  {
   "cell_type": "code",
   "execution_count": 22,
   "id": "a3389b40-f18a-410b-adb0-0a8becb0b8fb",
   "metadata": {},
   "outputs": [
    {
     "name": "stdout",
     "output_type": "stream",
     "text": [
      "0    24720\n",
      "1     7841\n",
      "Name: income >50K, dtype: int64\n"
     ]
    }
   ],
   "source": [
    "print(mincome['income >50K'].value_counts())"
   ]
  },
  {
   "cell_type": "code",
   "execution_count": 24,
   "id": "ed142ed3-3fbf-492a-99a0-e0397be107c4",
   "metadata": {},
   "outputs": [],
   "source": [
    "#Decision Tree"
   ]
  },
  {
   "cell_type": "code",
   "execution_count": 27,
   "id": "065e5167-0818-4839-b541-b67d422dbca9",
   "metadata": {},
   "outputs": [
    {
     "name": "stdout",
     "output_type": "stream",
     "text": [
      "       age  workclass  education  education-num  marital-status  occupation  \\\n",
      "0       39          0          0             13               0           0   \n",
      "1       50          1          0             13               1           1   \n",
      "2       38          2          1              9               2           2   \n",
      "3       53          2          2              7               1           2   \n",
      "4       28          2          0             13               1           3   \n",
      "...    ...        ...        ...            ...             ...         ...   \n",
      "32556   27          2          6             12               1          10   \n",
      "32557   40          2          1              9               1           9   \n",
      "32558   58          2          1              9               6           0   \n",
      "32559   22          2          1              9               0           0   \n",
      "32560   52          5          1              9               1           1   \n",
      "\n",
      "       relationship  race  sex  capital-gain  capital-loss  hours-per-week  \\\n",
      "0                 0     0    0          2174             0              40   \n",
      "1                 1     0    0             0             0              13   \n",
      "2                 0     0    0             0             0              40   \n",
      "3                 1     1    0             0             0              40   \n",
      "4                 2     1    1             0             0              40   \n",
      "...             ...   ...  ...           ...           ...             ...   \n",
      "32556             2     0    1             0             0              38   \n",
      "32557             1     0    0             0             0              40   \n",
      "32558             4     0    1             0             0              40   \n",
      "32559             3     0    0             0             0              20   \n",
      "32560             2     0    1         15024             0              40   \n",
      "\n",
      "       native-country  \n",
      "0                   0  \n",
      "1                   0  \n",
      "2                   0  \n",
      "3                   0  \n",
      "4                   1  \n",
      "...               ...  \n",
      "32556               0  \n",
      "32557               0  \n",
      "32558               0  \n",
      "32559               0  \n",
      "32560               0  \n",
      "\n",
      "[32561 rows x 13 columns]\n"
     ]
    }
   ],
   "source": [
    "#Split Train Test Eval\n",
    "X, y = mincome.iloc[:,:-1], mincome['income >50K']\n",
    "X.shape\n",
    "print(X)\n",
    "#X are the features besides income, which is our label"
   ]
  },
  {
   "cell_type": "code",
   "execution_count": 29,
   "id": "23c24a83-b461-49d3-83fb-551d779a5752",
   "metadata": {},
   "outputs": [
    {
     "name": "stdout",
     "output_type": "stream",
     "text": [
      "       age  education-num  capital-gain  hours-per-week\n",
      "0       39             13          2174              40\n",
      "1       50             13             0              13\n",
      "2       38              9             0              40\n",
      "3       53              7             0              40\n",
      "4       28             13             0              40\n",
      "...    ...            ...           ...             ...\n",
      "32556   27             12             0              38\n",
      "32557   40              9             0              40\n",
      "32558   58              9             0              40\n",
      "32559   22              9             0              20\n",
      "32560   52              9         15024              40\n",
      "\n",
      "[32561 rows x 4 columns]\n",
      "Index(['age', 'education-num', 'capital-gain', 'hours-per-week'], dtype='object')\n"
     ]
    }
   ],
   "source": [
    "#define feature selection\n",
    "feat = SelectKBest(score_func = f_classif, k=4)\n",
    "# Act on feature selection\n",
    "X_selected = pd.DataFrame(feat.fit_transform(X, y))\n",
    "X_selected.columns = X.columns[feat.get_support(indices=True)]\n",
    "print(X_selected)\n",
    "print(X.columns[feat.get_support(indices=True)])"
   ]
  },
  {
   "cell_type": "code",
   "execution_count": 31,
   "id": "4151473e-7b96-436c-99b2-a744ff8b5fea",
   "metadata": {},
   "outputs": [],
   "source": [
    "X_train, X_test, y_train, y_test = train_test_split(\n",
    "    X_selected, y, test_size=0.3)"
   ]
  },
  {
   "cell_type": "code",
   "execution_count": 32,
   "id": "255c93dc-7b52-42c3-9f5d-eaf584568ee0",
   "metadata": {},
   "outputs": [
    {
     "name": "stdout",
     "output_type": "stream",
     "text": [
      "17360\n",
      "17360\n"
     ]
    }
   ],
   "source": [
    "oversample = SMOTE()\n",
    "X_train, y_train = oversample.fit_resample(X_train, y_train)\n",
    "print(np.count_nonzero(y_train == 0))\n",
    "print(np.count_nonzero(y_train == 1))"
   ]
  },
  {
   "cell_type": "code",
   "execution_count": 35,
   "id": "8da1f94f-ef98-4122-907b-11f12f0a906f",
   "metadata": {},
   "outputs": [],
   "source": [
    "#decision tree\n",
    "clf = DecisionTreeClassifier(random_state=0, max_leaf_nodes=20, min_samples_leaf=10, )\n",
    "clf.fit(X_train, y_train)\n",
    "y_pred = clf.predict(X_test)"
   ]
  },
  {
   "cell_type": "code",
   "execution_count": 34,
   "id": "16fd576c-8f3d-4a83-b3a7-83b46717340e",
   "metadata": {},
   "outputs": [
    {
     "name": "stdout",
     "output_type": "stream",
     "text": [
      "[[5593 1767]\n",
      " [ 630 1779]]\n",
      "              precision    recall  f1-score   support\n",
      "\n",
      "           0       0.90      0.76      0.82      7360\n",
      "           1       0.50      0.74      0.60      2409\n",
      "\n",
      "    accuracy                           0.75      9769\n",
      "   macro avg       0.70      0.75      0.71      9769\n",
      "weighted avg       0.80      0.75      0.77      9769\n",
      "\n",
      "0.7491995878228381\n"
     ]
    }
   ],
   "source": [
    "print(confusion_matrix(y_test, y_pred))\n",
    "print(classification_report(y_test, y_pred))\n",
    "print(roc_auc_score(y_test, y_pred))"
   ]
  },
  {
   "cell_type": "code",
   "execution_count": null,
   "id": "32ce8332-4090-4c64-be7e-fdc64a2f6895",
   "metadata": {},
   "outputs": [],
   "source": [
    "# Notes - Accuracy is 75%, not great. I would focus on precision instead or recall. Would be more interested in how well the model was classifying\n",
    "# those who are actually in 50k + that the model predicts. Precision is high for No but weak for yes. Recall ok for both."
   ]
  },
  {
   "cell_type": "code",
   "execution_count": 36,
   "id": "d7bb5ba1-8675-47a8-b8aa-5e82456565e2",
   "metadata": {},
   "outputs": [
    {
     "name": "stdout",
     "output_type": "stream",
     "text": [
      "[[23390  1330]\n",
      " [ 3504  4337]]\n",
      "              precision    recall  f1-score   support\n",
      "\n",
      "           0       0.87      0.95      0.91     24720\n",
      "           1       0.77      0.55      0.64      7841\n",
      "\n",
      "    accuracy                           0.85     32561\n",
      "   macro avg       0.82      0.75      0.77     32561\n",
      "weighted avg       0.84      0.85      0.84     32561\n",
      "\n",
      "0.7496578178597357\n"
     ]
    }
   ],
   "source": [
    "#cross validation\n",
    "crosspred = cross_val_predict(clf, X, y, cv=20)\n",
    "print(confusion_matrix(y, crosspred))\n",
    "print(classification_report(y, crosspred))\n",
    "print(roc_auc_score(y, crosspred))"
   ]
  },
  {
   "cell_type": "code",
   "execution_count": null,
   "id": "eeeb3a7e-a4f3-4cdf-a2be-0f1356c59322",
   "metadata": {},
   "outputs": [],
   "source": [
    "# Much better numbers here. 85% accuracy, very good. "
   ]
  },
  {
   "cell_type": "code",
   "execution_count": 59,
   "id": "1b1cfec0-1bcd-4570-ae6f-eb0f5423b9ca",
   "metadata": {},
   "outputs": [
    {
     "name": "stdout",
     "output_type": "stream",
     "text": [
      "       age  workclass  education  education-num  marital-status  occupation  \\\n",
      "0       39          0          0             13               0           0   \n",
      "1       50          1          0             13               1           1   \n",
      "2       38          2          1              9               2           2   \n",
      "3       53          2          2              7               1           2   \n",
      "4       28          2          0             13               1           3   \n",
      "...    ...        ...        ...            ...             ...         ...   \n",
      "32556   27          2          6             12               1          10   \n",
      "32557   40          2          1              9               1           9   \n",
      "32558   58          2          1              9               6           0   \n",
      "32559   22          2          1              9               0           0   \n",
      "32560   52          5          1              9               1           1   \n",
      "\n",
      "       relationship  race  sex  capital-gain  capital-loss  hours-per-week  \\\n",
      "0                 0     0    0          2174             0              40   \n",
      "1                 1     0    0             0             0              13   \n",
      "2                 0     0    0             0             0              40   \n",
      "3                 1     1    0             0             0              40   \n",
      "4                 2     1    1             0             0              40   \n",
      "...             ...   ...  ...           ...           ...             ...   \n",
      "32556             2     0    1             0             0              38   \n",
      "32557             1     0    0             0             0              40   \n",
      "32558             4     0    1             0             0              40   \n",
      "32559             3     0    0             0             0              20   \n",
      "32560             2     0    1         15024             0              40   \n",
      "\n",
      "       native-country  \n",
      "0                   0  \n",
      "1                   0  \n",
      "2                   0  \n",
      "3                   0  \n",
      "4                   1  \n",
      "...               ...  \n",
      "32556               0  \n",
      "32557               0  \n",
      "32558               0  \n",
      "32559               0  \n",
      "32560               0  \n",
      "\n",
      "[32561 rows x 13 columns] 0        0\n",
      "1        0\n",
      "2        0\n",
      "3        0\n",
      "4        0\n",
      "        ..\n",
      "32556    0\n",
      "32557    1\n",
      "32558    0\n",
      "32559    0\n",
      "32560    1\n",
      "Name: income >50K, Length: 32561, dtype: int64\n"
     ]
    }
   ],
   "source": [
    "#split train test eval\n",
    "X, y = mincome.iloc[:,:-1], mincome['income >50K']\n",
    "print(X, y)"
   ]
  },
  {
   "cell_type": "code",
   "execution_count": 60,
   "id": "1978a7b9-f3b1-4bbd-b798-0068b184f1d0",
   "metadata": {},
   "outputs": [
    {
     "name": "stdout",
     "output_type": "stream",
     "text": [
      "       age  education-num  capital-gain  hours-per-week\n",
      "0       39             13          2174              40\n",
      "1       50             13             0              13\n",
      "2       38              9             0              40\n",
      "3       53              7             0              40\n",
      "4       28             13             0              40\n",
      "...    ...            ...           ...             ...\n",
      "32556   27             12             0              38\n",
      "32557   40              9             0              40\n",
      "32558   58              9             0              40\n",
      "32559   22              9             0              20\n",
      "32560   52              9         15024              40\n",
      "\n",
      "[32561 rows x 4 columns]\n",
      "Index(['age', 'education-num', 'capital-gain', 'hours-per-week'], dtype='object')\n"
     ]
    }
   ],
   "source": [
    "# define feature selection\n",
    "feat = SelectKBest(score_func=f_classif, k=4)\n",
    "# apply feature selection\n",
    "X_selected = pd.DataFrame(feat.fit_transform(X, y))\n",
    "X_selected.columns = X.columns[feat.get_support(indices=True)]\n",
    "print(X_selected)\n",
    "print(X.columns[feat.get_support(indices=True)])\n",
    "#not sure but it is only returning one column. Age but nothing else."
   ]
  },
  {
   "cell_type": "code",
   "execution_count": 61,
   "id": "37024929-b47d-4219-97e7-d69d141127b3",
   "metadata": {},
   "outputs": [],
   "source": [
    "X_train, X_test, y_train, y_test = train_test_split(\n",
    "    X, y, test_size=0.3)"
   ]
  },
  {
   "cell_type": "code",
   "execution_count": 45,
   "id": "4fcf92b6-fdb2-4c7c-8443-c6bb7e248f6f",
   "metadata": {},
   "outputs": [
    {
     "name": "stdout",
     "output_type": "stream",
     "text": [
      "17328\n",
      "17328\n"
     ]
    }
   ],
   "source": [
    "oversample = SMOTE()\n",
    "X_train, y_train = oversample.fit_resample(X_train, y_train)\n",
    "print(np.count_nonzero(y_train == 0))\n",
    "print(np.count_nonzero(y_train == 1))"
   ]
  },
  {
   "cell_type": "code",
   "execution_count": 46,
   "id": "f8baa1eb-a6ac-4a2c-a6f4-31f36a04361d",
   "metadata": {},
   "outputs": [],
   "source": [
    "#Random Forest Classifier"
   ]
  },
  {
   "cell_type": "code",
   "execution_count": 62,
   "id": "935e304e-21ae-44f4-9dda-93b28b1a0dca",
   "metadata": {},
   "outputs": [
    {
     "name": "stdout",
     "output_type": "stream",
     "text": [
      "[[6894  594]\n",
      " [ 874 1407]]\n",
      "              precision    recall  f1-score   support\n",
      "\n",
      "           0       0.89      0.92      0.90      7488\n",
      "           1       0.70      0.62      0.66      2281\n",
      "\n",
      "    accuracy                           0.85      9769\n",
      "   macro avg       0.80      0.77      0.78      9769\n",
      "weighted avg       0.84      0.85      0.85      9769\n",
      "\n",
      "0.4999190938511327\n"
     ]
    }
   ],
   "source": [
    "classifierRF = RandomForestClassifier(n_estimators=1000,\n",
    "                                      verbose=0,\n",
    "                                      n_jobs=-1)     \n",
    "classifierRF.fit(X_train, y_train)\n",
    "y_pred = classifierRF.predict(X_test)\n",
    "print(confusion_matrix(y_test, y_pred))\n",
    "print(classification_report(y_test, y_pred))\n",
    "print(roc_auc_score(y, crosspred))"
   ]
  },
  {
   "cell_type": "code",
   "execution_count": null,
   "id": "505ff1d8-821d-4ea5-9fa0-9430bc878766",
   "metadata": {},
   "outputs": [],
   "source": [
    "# Precision and recall for 0 are good, ok numbers for 1. f1-score is good for 0 not great for 1"
   ]
  },
  {
   "cell_type": "code",
   "execution_count": 63,
   "id": "4163fed6-fae2-4b09-8e8d-85c6b1145a3e",
   "metadata": {},
   "outputs": [
    {
     "name": "stdout",
     "output_type": "stream",
     "text": [
      "[[22810  1910]\n",
      " [ 2930  4911]]\n",
      "              precision    recall  f1-score   support\n",
      "\n",
      "           0       0.89      0.92      0.90     24720\n",
      "           1       0.72      0.63      0.67      7841\n",
      "\n",
      "    accuracy                           0.85     32561\n",
      "   macro avg       0.80      0.77      0.79     32561\n",
      "weighted avg       0.85      0.85      0.85     32561\n",
      "\n",
      "0.7745289004481877\n"
     ]
    }
   ],
   "source": [
    "crosspred = cross_val_predict(classifierRF, X, y, cv=10)\n",
    "print(confusion_matrix(y, crosspred))\n",
    "print(classification_report(y, crosspred))\n",
    "print(roc_auc_score(y, crosspred))"
   ]
  },
  {
   "cell_type": "code",
   "execution_count": null,
   "id": "ef2c30c1-4536-4250-a179-e2ba42105628",
   "metadata": {},
   "outputs": [],
   "source": [
    "#better AUC score. other numbers about the same, minor increases."
   ]
  }
 ],
 "metadata": {
  "kernelspec": {
   "display_name": "Python 3 (ipykernel)",
   "language": "python",
   "name": "python3"
  },
  "language_info": {
   "codemirror_mode": {
    "name": "ipython",
    "version": 3
   },
   "file_extension": ".py",
   "mimetype": "text/x-python",
   "name": "python",
   "nbconvert_exporter": "python",
   "pygments_lexer": "ipython3",
   "version": "3.9.7"
  }
 },
 "nbformat": 4,
 "nbformat_minor": 5
}
